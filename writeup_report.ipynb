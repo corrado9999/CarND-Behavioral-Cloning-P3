{
 "cells": [
  {
   "cell_type": "markdown",
   "metadata": {},
   "source": [
    "# **Behavioral Cloning** \n",
    "\n",
    "## Writeup Template\n",
    "\n",
    "### You can use this file as a template for your writeup if you want to submit it as a markdown file, but feel free to use some other method and submit a pdf if you prefer.\n",
    "\n",
    "---"
   ]
  },
  {
   "cell_type": "markdown",
   "metadata": {},
   "source": [
    "**Behavioral Cloning Project**\n",
    "\n",
    "The goals / steps of this project are the following:\n",
    "* Use the simulator to collect data of good driving behavior\n",
    "* Build, a convolution neural network in Keras that predicts steering angles from images\n",
    "* Train and validate the model with a training and validation set\n",
    "* Test that the model successfully drives around track one without leaving the road\n",
    "* Summarize the results with a written report"
   ]
  },
  {
   "cell_type": "markdown",
   "metadata": {},
   "source": [
    "## Rubric Points\n",
    "### Here I will consider the [rubric points](https://review.udacity.com/#!/rubrics/432/view) individually and describe how I addressed each point in my implementation.  \n",
    "\n",
    "---"
   ]
  },
  {
   "cell_type": "markdown",
   "metadata": {},
   "source": [
    "### Files Submitted & Code Quality\n",
    "\n",
    "#### 1. Submission includes all required files and can be used to run the simulator in autonomous mode\n",
    "\n",
    "My project includes the following files:\n",
    "* model.py containing the script to create and train the model\n",
    "* drive.py for driving the car in autonomous mode\n",
    "* model.h5 containing a trained convolution neural network\n",
    "* writeup_report.md or writeup_report.pdf summarizing the results\n",
    "\n",
    "#### 2. Submission includes functional code\n",
    "Using the Udacity provided simulator and my drive.py file, the car can be driven autonomously around the track by executing\n",
    "```sh\n",
    "python drive.py model.h5\n",
    "```\n",
    "\n",
    "#### 3. Submission code is usable and readable\n",
    "\n",
    "The model.py file contains the code for training and saving the convolution neural network. The file shows the pipeline I used for training and validating the model, and it contains comments to explain how the code works."
   ]
  },
  {
   "cell_type": "markdown",
   "metadata": {},
   "source": [
    "### Model Architecture and Training Strategy"
   ]
  },
  {
   "cell_type": "markdown",
   "metadata": {},
   "source": [
    "#### 1. An appropriate model architecture has been employed\n",
    "\n",
    "My model was inspired by the model developed by nVIDIA for the same task (https://devblogs.nvidia.com/parallelforall/deep-learning-self-driving-cars/).\n",
    "\n",
    "Three sections can be identified:\n",
    " 1. Preprocessing (model.py lines 91-92): crops the image (70 pixels above and 24 below) changes the color space into YUV (see https://en.wikipedia.org/wiki/YUV#Conversion_to/from_RGB). I introduce a bias of -0.5 in the Y channel in order to have simmetrical inputs.\n",
    " 2. Convolutions (model.py lines 94-100): 5 convolutional layers separated by non-linear activation functions. I chose exponential linear units (ELUs) as main activation functions because alleviate the vanishing gradient problem (see https://arxiv.org/abs/1511.07289). Only for the first layer I adopted a CReLU (model.py line 95), because it has been shown that the first convolutional layer usually learns *complementary* features (see https://arxiv.org/abs/1603.05201). As a consequence, the number of channels of the first layer has been halved w.r.t. the original nVIDIA implementation.\n",
    " 3. Top (model.py lines 102-107): a dense MLP built on top of the last, flattened convolutional layer. I inserted a dropout layer (with 0.5 probability) just before the flattening in order to reduce the probability of overfitting the training data. Again, I put ELUs activation functions between layers, while I used a softsign activation function (model.py line 107) as final output in order to have values between -1 and 1. This helped to reduce the incidence of *saturating* the steering."
   ]
  },
  {
   "cell_type": "markdown",
   "metadata": {},
   "source": [
    "#### 2. Attempts to reduce overfitting in the model\n",
    "\n",
    "The model contains dropout layers in order to reduce overfitting (model.py lines 100).\n",
    "\n",
    "The model was trained and validated on different data sets to ensure that the model was not overfitting (code lines 175 and 193). The model was tested by running it through the simulator and ensuring that the vehicle could stay on the track.\n",
    "\n",
    "#### 3. Model parameter tuning\n",
    "\n",
    "The model used an adam optimizer, so the learning rate was not tuned manually (model.py line 86).\n",
    "\n",
    "#### 4. Appropriate training data\n",
    "\n",
    "Training data was chosen to keep the vehicle driving on the road. I created different subdatasets to take into account different issues:\n",
    " 1. Two laps of center lane driving.\n",
    " 2. Two laps of center lane driving in the reverse direction.\n",
    " 3. One lap of recovering from left and right side (i.e. go to a lane side, start recording, drive to the lane center, stop recording and repeat).\n",
    " 4. Six bridge crossings (three in one way, three in the other one), because the model showed low performance on it."
   ]
  },
  {
   "cell_type": "markdown",
   "metadata": {},
   "source": [
    "### Model Architecture and Training Strategy"
   ]
  },
  {
   "cell_type": "markdown",
   "metadata": {},
   "source": [
    "#### 1. Solution Design Approach\n",
    "\n",
    "At first I thought to only train a MLP on top of one of the networks already trained on ImageNet that Keras offers. Unfortunately, the size of the final network was usually too big also for AWS G2.x2large instances: I usually ended up with very small batches (2-4) and very long lasting epochs. The bottleneck was the first dense layer, as it had to connect to **every** \"pixel\" of the last convolutional layer, and sometimes even few hundreds were impractible.\n",
    "\n",
    "Therefore I switched to nVIDIA model, that was much simpler but still has already shown to be able to perform the job. The only problem was that it was applied to YUV space, so I had to implement the conversion with Keras+Tensorflow. I kept the dense layer size I was already using as it seemed to me that the nVIDIA model cutted too early the number of neurons.\n",
    "\n",
    "I decided to introduce some modifications to the model, because my training data was not very extensive and, although the validation error was always below the training error, tests *on the field* showed high overfitting. The main modifications were:\n",
    " 1. Non-linear activation functions after convolutional layers (in particular, CReLU after the very first).\n",
    " 2. Dropout layer between convolutional layers and flattening.\n",
    "\n",
    "The final step was to run the simulator to see how well the car was driving around track one. The bridge was a critical point. Even if most of the the model was able to drive all the way through, when exiting the bridge it turned either left or right leaving the lane. To overcome this issue I recorded some more training data explicitly taken on the bridge, in both the directions. This permitted the model to learn how to deal properly with it.\n",
    "\n",
    "At the end of the process, the vehicle is able to drive autonomously around the track without leaving the road."
   ]
  },
  {
   "cell_type": "markdown",
   "metadata": {},
   "source": [
    "#### 2. Final Model Architecture\n",
    "\n",
    "The final model architecture (model.py lines 89-107) consisted of a convolution neural network with the following structure.\n",
    "\n",
    "Layer (type)                  |   Output Shape        |  Param #   |  Connected to\n",
    ":-----------------------------|-----------------------|------------|-----------------------------------\n",
    "Cropping (Cropping2D)         |   (None, 66, 320, 3)  |  0         |  cropping2d_input_6[0][0]      \n",
    "rgb2yuv (Lambda)              |   (None, 66, 320, 3)  |  0         |  Cropping[0][0]                \n",
    "Conv1 (Convolution2D)         |   (None, 31, 158, 12) |  912       |  rgb2yuv[0][0]                 \n",
    "CReLU (Lambda)                |   (None, 31, 158, 24) |  0         |  Conv1[0][0]                   \n",
    "Conv2 (Convolution2D)         |   (None, 14, 77, 36)  |  21636     |  CReLU[0][0]                   \n",
    "Conv3 (Convolution2D)         |   (None, 5, 37, 48)   |  43248     |  Conv2[0][0]                   \n",
    "Conv4 (Convolution2D)         |   (None, 3, 35, 64)   |  27712     |  Conv3[0][0]                   \n",
    "Conv5 (Convolution2D)         |   (None, 1, 33, 64)   |  36928     |  Conv4[0][0]                   \n",
    "Dropout-0.5 (Dropout)         |   (None, 1, 33, 64)   |  0         |  Conv5[0][0]                   \n",
    "Flatten (Flatten)             |   (None, 2112)        |  0         |  Dropout-0.5[0][0]             \n",
    "Dense1 (Dense)                |   (None, 512)         |  1081856   |  Flatten[0][0]                 \n",
    "Dense2 (Dense)                |   (None, 128)         |  65664     |  Dense1[0][0]                  \n",
    "Dense3 (Dense)                |   (None, 32)          |  4128      |  Dense2[0][0]                  \n",
    "Dense4 (Dense)                |   (None, 8)           |  264       |  Dense3[0][0]                  \n",
    "Dense5 (Dense)                |   (None, 1)           |  9         |  Dense4[0][0]                  "
   ]
  },
  {
   "cell_type": "markdown",
   "metadata": {},
   "source": [
    "#### 3. Creation of the Training Set & Training Process\n",
    "\n",
    "To capture good driving behavior, I first recorded two laps on track one using center lane driving. Here is an example image of center lane driving:\n",
    "\n",
    "![](images/center_2017_10_30_22_25_45_165.jpg)\n",
    "\n",
    "I also recorded two laps running in the opposite direction, in order to balance the training dataset.\n",
    "\n",
    "I then recorded the vehicle recovering from the left side and right sides of the road back to center so that the vehicle would learn to recovery errors. These images show what a recovery looks like starting from right:\n",
    "\n",
    "![](images/center_2017_10_30_22_52_35_202.jpg)\n",
    "![](images/center_2017_10_30_22_52_37_060.jpg)\n",
    "![](images/center_2017_10_30_22_52_38_348.jpg)\n",
    "\n",
    "I also had to record additional data on the bridge, because the model kept to have problems when exiting it.\n",
    "\n",
    "To augment the dataset I implemented a Python generator to be used in conjuction with Keras *fit_generator*.\n",
    "This generator, at each epoch, first randomly shuffle the dataset; then it performs the following steps:\n",
    " 1. Take a batch\n",
    " 2. Randomly select a camera (left, center, right)\n",
    " 3. Randomly apply a shift image per image\n",
    " 4. Randomly apply a rotation image per image\n",
    " 5. Randomly apply a flip image per image\n",
    " 6. Correct the steering angle accordingly to the performed distortions. Because it is too unnecessarly hard to exactly calculate the correction, I applied the following empirical rules:\n",
    "    1. +/- 0.2 radians for left/right cameras resp.\n",
    "    2. 0.002 radians for each horizontal (x) pixel of shift\n",
    "    3. the same amount of rotation\n",
    "    4. the sign is inverted when a flip is applied\n",
    "Here are some examples of data augmentation.\n",
    "\n",
    "![](images/augmentation-1.png)\n",
    "\n",
    "Unfortunately I am not very good in driving the car with a pad or mouse, so I had to use the keyboard. This, together with the fact that there are not many bends in the track, had as drawback that most of the dataset is zero-steering. This can be easily seen in the following histogram:\n",
    "\n",
    "![](images/hist-1.png)\n",
    "\n",
    "In order to mitigate such drawback, I implemented the following strategies:\n",
    " 1. Using Pandas, I easily averaged the steering on a temporal span of 150ms. In this way, steering is *softer* but long straight lanes are almost unaffected.\n",
    " 2. I dropped a certain amount of zero-steering data, such that it was still dominant but not overwhelming, like in the following histogram ![](images/hist-2.png)\n",
    " 3. I integrated my training dataset with the one provided by Udacity (https://d17h27t6h515a5.cloudfront.net/topher/2016/December/584f6edd_data/data.zip)\n",
    "\n",
    "The final histogram looks like the following\n",
    "![](images/hist-4.png)\n",
    "\n",
    "I finally randomly shuffled the data set and put 25% of the data into a validation set.\n",
    "\n",
    "I exploited Keras callback ModelCheckpoint to retain the weights with highest validation score among epochs. In this way I could set a higher number of epochs without worrying of losing the obtained results. This showed that higher validation score does not necessarly mean better performance on the simulator. Models trained for a high number of epochs (e.g. 80) tend to be zigzag more than apparently slighly worst models trained for much less epochs (e.g. 15).  In my opinion, a better objective function (or at least validation metric) giving more insight in how well the model would perform on-the-field would be great, but I was not able to find it.\n",
    "\n",
    "I used an adam optimizer so that manually training the learning rate wasn't necessary.\n",
    "\n",
    "The following plot shows the MSE variation with the epochs:\n",
    "![](images/training.png)"
   ]
  }
 ],
 "metadata": {
  "kernelspec": {
   "display_name": "Python 3",
   "language": "python",
   "name": "python3"
  },
  "language_info": {
   "codemirror_mode": {
    "name": "ipython",
    "version": 3
   },
   "file_extension": ".py",
   "mimetype": "text/x-python",
   "name": "python",
   "nbconvert_exporter": "python",
   "pygments_lexer": "ipython3",
   "version": "3.5.2"
  },
  "widgets": {
   "state": {},
   "version": "1.1.2"
  }
 },
 "nbformat": 4,
 "nbformat_minor": 2
}
